{
  "nbformat": 4,
  "nbformat_minor": 0,
  "metadata": {
    "colab": {
      "provenance": [],
      "mount_file_id": "190GLm363cupvgwJTz4UQ84W3pZkEgclM",
      "authorship_tag": "ABX9TyOmCKLOjuoxDV2F2cI+1Dcw",
      "include_colab_link": true
    },
    "kernelspec": {
      "name": "python3",
      "display_name": "Python 3"
    },
    "language_info": {
      "name": "python"
    }
  },
  "cells": [
    {
      "cell_type": "markdown",
      "metadata": {
        "id": "view-in-github",
        "colab_type": "text"
      },
      "source": [
        "<a href=\"https://colab.research.google.com/github/YunfengGe0805/AIDclassification/blob/main/preprocessing.ipynb\" target=\"_parent\"><img src=\"https://colab.research.google.com/assets/colab-badge.svg\" alt=\"Open In Colab\"/></a>"
      ]
    },
    {
      "cell_type": "code",
      "source": [
        "import os\n",
        "\n",
        "# Define the folder containing the image files and the output text file\n",
        "image_folder = r\"C:\\GeoDS\\MachineLearning\\final\\AID\\data\"\n",
        "output_file = r\"C:\\GeoDS\\MachineLearning\\final\\AID\\data_list.txt\"\n",
        "\n",
        "# Define the label mapping\n",
        "label_mapping = {\n",
        "    \"airport\": 0,\n",
        "    \"bareland\": 1,\n",
        "    \"baseballfield\": 2,\n",
        "    \"beach\": 3,\n",
        "    \"bridge\": 4,\n",
        "    \"center\": 5,\n",
        "    \"church\": 6,\n",
        "    \"commercial\": 7,\n",
        "    \"denseresidential\": 8,\n",
        "    \"desert\": 9,\n",
        "    \"farmland\": 10,\n",
        "    \"forest\": 11,\n",
        "    \"industrial\": 12,\n",
        "    \"meadow\": 13,\n",
        "    \"mediumresidential\": 14,\n",
        "    \"mountain\": 15,\n",
        "    \"park\": 16,\n",
        "    \"parking\": 17,\n",
        "    \"playground\": 18,\n",
        "    \"pond\": 19,\n",
        "    \"port\": 20,\n",
        "    \"railwaystation\": 21,\n",
        "    \"resort\": 22,\n",
        "    \"river\": 23,\n",
        "    \"school\": 24,\n",
        "    \"sparseresidential\": 25,\n",
        "    \"square\": 26,\n",
        "    \"stadium\": 27,\n",
        "    \"storagetanks\": 28,\n",
        "    \"viaduct\": 29\n",
        "    # Add other labels as needed\n",
        "}\n",
        "\n",
        "# Open the output file\n",
        "with open(output_file, \"w\") as f:\n",
        "    # Iterate over all files in the folder\n",
        "    for file_name in sorted(os.listdir(image_folder)):\n",
        "        if file_name.endswith(\".jpg\"):  # Check for .jpg files\n",
        "            # Extract label from the file name (e.g., \"agricultural\" or \"airplane\")\n",
        "            label_name = file_name.split(\".\")[0].rstrip(\"_0123456789\")\n",
        "            label_index = label_mapping.get(label_name, -1)  # Default to -1 if not found\n",
        "            if label_index != -1:\n",
        "                # Write to the file in the desired format\n",
        "                f.write(f\"{file_name} {label_index} {label_name}\\n\")\n",
        "\n",
        "print(f\"File '{output_file}' created successfully!\")"
      ],
      "metadata": {
        "id": "Po8moytDJl9C"
      },
      "execution_count": null,
      "outputs": []
    },
    {
      "cell_type": "code",
      "source": [
        "import random\n",
        "# Input text file and output file names\n",
        "input_file = r\"C:\\GeoDS\\MachineLearning\\final\\AID\\data_list.txt\"\n",
        "train_file = r\"C:\\GeoDS\\MachineLearning\\final\\AID\\train_data_list.txt\"\n",
        "test_file = r\"C:\\GeoDS\\MachineLearning\\final\\AID\\test_list.txt\"\n",
        "val_file = r\"C:\\GeoDS\\MachineLearning\\final\\AID\\val_data_list.txt\"\n",
        "\n",
        "# Ratios for splitting\n",
        "train_ratio = 0.7\n",
        "val_ratio = 0.2\n",
        "test_ratio = 0.1\n",
        "\n",
        "# Group lines by category\n",
        "category_lines = {}\n",
        "\n",
        "# Read the input file and group lines by category\n",
        "with open(input_file, \"r\") as infile:\n",
        "    for line in infile:\n",
        "        # Extract the category (last part of the line)\n",
        "        category = line.strip().split()[-1]\n",
        "        if category not in category_lines:\n",
        "            category_lines[category] = []\n",
        "        category_lines[category].append(line)\n",
        "\n",
        "# Open output files\n",
        "with open(train_file, \"w\") as train_out, \\\n",
        "        open(test_file, \"w\") as test_out, \\\n",
        "        open(val_file, \"w\") as val_out:\n",
        "    # Process each category\n",
        "    for category, lines in category_lines.items():\n",
        "        # Shuffle the lines for randomness\n",
        "        random.shuffle(lines)\n",
        "\n",
        "        # Calculate the split indices\n",
        "        total = len(lines)\n",
        "        train_end = int(total * train_ratio)\n",
        "        val_end = train_end + int(total * val_ratio)\n",
        "\n",
        "        # Split the lines\n",
        "        train_lines = lines[:train_end]\n",
        "        val_lines = lines[train_end:val_end]\n",
        "        test_lines = lines[val_end:]\n",
        "\n",
        "        # Write the splits to their respective files\n",
        "        train_out.writelines(train_lines)\n",
        "        val_out.writelines(val_lines)\n",
        "        test_out.writelines(test_lines)\n",
        "\n",
        "print(\"Files successfully split into train, validation, and test sets!\")\n"
      ],
      "metadata": {
        "id": "Z_K6QTKUJ4up"
      },
      "execution_count": null,
      "outputs": []
    }
  ]
}